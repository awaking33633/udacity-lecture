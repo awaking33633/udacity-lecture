{
 "metadata": {
  "name": "",
  "signature": "sha256:bf7e0f59417bb60cda1de0c7a019d4b3832cd1dd0093824b82b7bc04361efd6c"
 },
 "nbformat": 3,
 "nbformat_minor": 0,
 "worksheets": [
  {
   "cells": [
    {
     "cell_type": "markdown",
     "metadata": {},
     "source": [
      "![jpeg](../galleries/text_learning/2.jpg)"
     ]
    },
    {
     "cell_type": "markdown",
     "metadata": {},
     "source": [
      "Text Learning, is machine learning on broad area which incorporate text. Many search giants, like Google, Yahoo, Baidu, tried to to learn text from various search. In this example we take a look at bag of words, which contains words, and from the data, count the frequency of word occurs in the text.\n",
      "<!-- TEASER_END -->\n"
     ]
    },
    {
     "cell_type": "markdown",
     "metadata": {},
     "source": [
      "\n",
      "So Bag of Words has interesting characteristics:\n",
      "\n",
      "* Word order doesn't matter. It can only throw the text, without the order and dump into the bag (hence the name)\n",
      "* Because it long phrases, it actually duplicate the words and return double of its vector leng.\n",
      "* We may throw more complex model of bag of words, but really it just count one words, thus didn't handle the complexity of phrase. When Google first start as search engine, words like Chicago Bulls, if you put it into search engine, returns cities and animal. Now their engineers has model the bag complexity enough to catch the phrase."
     ]
    },
    {
     "cell_type": "markdown",
     "metadata": {},
     "source": [
      "The sklearn has the module to count how many words occurs in one sentence, called CountVectorizer"
     ]
    },
    {
     "cell_type": "code",
     "collapsed": false,
     "input": [
      "%pylab inline"
     ],
     "language": "python",
     "metadata": {},
     "outputs": [
      {
       "output_type": "stream",
       "stream": "stdout",
       "text": [
        "Populating the interactive namespace from numpy and matplotlib\n"
       ]
      }
     ],
     "prompt_number": 8
    },
    {
     "cell_type": "code",
     "collapsed": false,
     "input": [
      "import numpy"
     ],
     "language": "python",
     "metadata": {},
     "outputs": [],
     "prompt_number": 9
    },
    {
     "cell_type": "code",
     "collapsed": false,
     "input": [
      "from sklearn.feature_extraction.text import CountVectorizer\n"
     ],
     "language": "python",
     "metadata": {},
     "outputs": [],
     "prompt_number": 1
    },
    {
     "cell_type": "code",
     "collapsed": false,
     "input": [
      "vectorizer = CountVectorizer()\n"
     ],
     "language": "python",
     "metadata": {},
     "outputs": [],
     "prompt_number": 2
    },
    {
     "cell_type": "code",
     "collapsed": false,
     "input": [
      "string1 = \"hi Katie the self driving car will be late Best Sebastian\"\n",
      "string2 = \"Hi Sebastian the machine learning will be great greate best Katie\"\n"
     ],
     "language": "python",
     "metadata": {},
     "outputs": [],
     "prompt_number": 3
    },
    {
     "cell_type": "code",
     "collapsed": false,
     "input": [
      "email_list = [string1,string2]"
     ],
     "language": "python",
     "metadata": {},
     "outputs": [],
     "prompt_number": 4
    },
    {
     "cell_type": "code",
     "collapsed": false,
     "input": [
      "\n",
      "bag_of_words = vectorizer.fit(email_list)"
     ],
     "language": "python",
     "metadata": {},
     "outputs": [],
     "prompt_number": 5
    },
    {
     "cell_type": "code",
     "collapsed": false,
     "input": [
      "bag_of_words = vectorizer.transform(email_list)"
     ],
     "language": "python",
     "metadata": {},
     "outputs": [],
     "prompt_number": 6
    },
    {
     "cell_type": "code",
     "collapsed": false,
     "input": [
      "print bag_of_words"
     ],
     "language": "python",
     "metadata": {},
     "outputs": [
      {
       "output_type": "stream",
       "stream": "stdout",
       "text": [
        "  (0, 0)\t1\n",
        "  (0, 1)\t1\n",
        "  (0, 2)\t1\n",
        "  (0, 3)\t1\n",
        "  (0, 6)\t1\n",
        "  (0, 7)\t1\n",
        "  (0, 8)\t1\n",
        "  (0, 11)\t1\n",
        "  (0, 12)\t1\n",
        "  (0, 13)\t1\n",
        "  (0, 14)\t1\n",
        "  (1, 0)\t1\n",
        "  (1, 1)\t1\n",
        "  (1, 4)\t1\n",
        "  (1, 5)\t1\n",
        "  (1, 6)\t1\n",
        "  (1, 7)\t1\n",
        "  (1, 9)\t1\n",
        "  (1, 10)\t1\n",
        "  (1, 11)\t1\n",
        "  (1, 13)\t1\n",
        "  (1, 14)\t1\n"
       ]
      }
     ],
     "prompt_number": 13
    },
    {
     "cell_type": "code",
     "collapsed": false,
     "input": [
      "print vectorizer.vocabulary_.get('great')"
     ],
     "language": "python",
     "metadata": {},
     "outputs": [
      {
       "output_type": "stream",
       "stream": "stdout",
       "text": [
        "4\n"
       ]
      }
     ],
     "prompt_number": 14
    },
    {
     "cell_type": "markdown",
     "metadata": {},
     "source": [
      "![jpeg](../galleries/text_learning/3.jpg)"
     ]
    },
    {
     "cell_type": "markdown",
     "metadata": {},
     "source": [
      "Some text may not be important to include in the learning algorithm. These words are just too frequent, and it doesn't help much to learn what the text are about. Stopwords containing some unnecessary words that adding it only becomes noise, because it will contribute largely (because it's too frequent) on the data. Does why it's important to escape these words as preprocessing in text learning."
     ]
    },
    {
     "cell_type": "markdown",
     "metadata": {},
     "source": [
      "![jpeg](../galleries/text_learning/5.jpg)"
     ]
    },
    {
     "cell_type": "markdown",
     "metadata": {},
     "source": [
      "Words can also compacted from all kinds of available extension of words into only a root for that words, for example respon."
     ]
    },
    {
     "cell_type": "code",
     "collapsed": false,
     "input": [
      "from nltk.stem.snowball import SnowballStemmer"
     ],
     "language": "python",
     "metadata": {},
     "outputs": [],
     "prompt_number": 16
    },
    {
     "cell_type": "code",
     "collapsed": false,
     "input": [
      "stemmer = SnowballStemmer(\"english\")"
     ],
     "language": "python",
     "metadata": {},
     "outputs": [],
     "prompt_number": 17
    },
    {
     "cell_type": "code",
     "collapsed": false,
     "input": [
      "stemmer.stem(\"responsiveness\")"
     ],
     "language": "python",
     "metadata": {},
     "outputs": [
      {
       "metadata": {},
       "output_type": "pyout",
       "prompt_number": 18,
       "text": [
        "u'respons'"
       ]
      }
     ],
     "prompt_number": 18
    },
    {
     "cell_type": "code",
     "collapsed": false,
     "input": [
      "stemmer.stem(\"unresponsive\")"
     ],
     "language": "python",
     "metadata": {},
     "outputs": [
      {
       "metadata": {},
       "output_type": "pyout",
       "prompt_number": 19,
       "text": [
        "u'unrespons'"
       ]
      }
     ],
     "prompt_number": 19
    },
    {
     "cell_type": "markdown",
     "metadata": {},
     "source": [
      "This is one particular example that we choose from nltk that also gonna play a bit around in the later mini project. Notice that the stem still maintain \"un\" prefix. Sometimes we may want to represent the words that only 'repon' and 'unrespon', could be totally different matters. We could also fine-tuning this stem function. This is really benefit as we can reduce thousands of features into one that has same meaning, which is greatly beneficient for the algorithm."
     ]
    },
    {
     "cell_type": "markdown",
     "metadata": {},
     "source": [
      "This stemming, preprocessing text learning, should done first before you use bag of words representation."
     ]
    },
    {
     "cell_type": "markdown",
     "metadata": {},
     "source": [
      "![jpeg](../galleries/text_learning/6.jpg)"
     ]
    },
    {
     "cell_type": "markdown",
     "metadata": {},
     "source": [
      "TFIDF is also one interesting technique in text learning. While TF is similar to bag of words, IDF is how rare a word occurs in document(corpus). Sometimes this rare word, that if in author guess, only appear in one particular author, is important. That word will determine which author that writes the documents. And because of that, rare words rank higher."
     ]
    },
    {
     "cell_type": "heading",
     "level": 3,
     "metadata": {},
     "source": [
      "Mini Project"
     ]
    },
    {
     "cell_type": "markdown",
     "metadata": {},
     "source": [
      "As usual, because this blog post are the note that I have taken from Udacity course, Here I attack some of the problem they have at their mini project. You can see the link of the course for this note at the bottom of this page."
     ]
    },
    {
     "cell_type": "markdown",
     "metadata": {},
     "source": [
      "In the beginning of this class, you identified emails by their authors using a number of supervised classification algorithms. In those projects, we handled the preprocessing for you, transforming the input emails into a TfIdf so they could be fed into the algorithms. Now you will construct your own version of that preprocessing step, so that you are going directly from raw data to processed features.\n",
      "\n",
      "You will be given two text files: one contains the locations of all the emails from Sara, the other has emails from Chris. You will also have access to the parseOutText() function, which accepts an opened email as an argument and returns a string containing all the (stemmed) words in the email."
     ]
    },
    {
     "cell_type": "markdown",
     "metadata": {},
     "source": [
      "You\u2019ll start with a warmup exercise to get acquainted with parseOutText(). Go to the tools directory and run parse_out_email_text.py, which contains parseOutText() and a test email to run this function over.\n",
      "\n",
      "parseOutText() takes the opened email and returns only the text part, stripping away any metadata that may occur at the beginning of the email, so what's left is the text of the message. We currently have this script set up so that it will print the text of the email to the screen, what is the text that you get when you run parseOutText()?"
     ]
    },
    {
     "cell_type": "code",
     "collapsed": false,
     "input": [
      "%load ../tools/parse_out_email_text.py"
     ],
     "language": "python",
     "metadata": {},
     "outputs": [],
     "prompt_number": 26
    },
    {
     "cell_type": "code",
     "collapsed": false,
     "input": [
      "#!/usr/bin/python\n",
      "\n",
      "from nltk.stem.snowball import SnowballStemmer\n",
      "import string\n",
      "\n",
      "def parseOutText(f):\n",
      "    \"\"\" given an opened email file f, parse out all text below the\n",
      "        metadata block at the top\n",
      "        (in Part 2, you will also add stemming capabilities)\n",
      "        and return a string that contains all the words\n",
      "        in the email (space-separated) \n",
      "        \n",
      "        example use case:\n",
      "        f = open(\"email_file_name.txt\", \"r\")\n",
      "        text = parseOutText(f)\n",
      "        \n",
      "        \"\"\"\n",
      "\n",
      "\n",
      "    f.seek(0)  ### go back to beginning of file (annoying)\n",
      "    all_text = f.read()\n",
      "\n",
      "    ### split off metadata\n",
      "    content = all_text.split(\"X-FileName:\")\n",
      "    words = \"\"\n",
      "    if len(content) > 1:\n",
      "        ### remove punctuation\n",
      "        text_string = content[1].translate(string.maketrans(\"\", \"\"), string.punctuation)\n",
      "\n",
      "        ### project part 2: comment out the line below\n",
      "        words = text_string\n",
      "\n",
      "        ### split the text string into individual words, stem each word,\n",
      "        ### and append the stemmed word to words (make sure there's a single\n",
      "        ### space between each stemmed word)\n",
      "        \n",
      "\n",
      "\n",
      "\n",
      "    return words\n",
      "\n",
      "    \n",
      "\n",
      "def main():\n",
      "    ff = open(\"../text_learning/test_email.txt\", \"r\")\n",
      "    text = parseOutText(ff)\n",
      "    print text\n",
      "\n",
      "\n",
      "\n",
      "if __name__ == '__main__':\n",
      "    main()\n",
      "\n"
     ],
     "language": "python",
     "metadata": {},
     "outputs": [
      {
       "output_type": "stream",
       "stream": "stdout",
       "text": [
        "\n",
        "\n",
        "Hi Everyone  If you can read this message youre properly using parseOutText  Please proceed to the next part of the project\n",
        "\n"
       ]
      }
     ],
     "prompt_number": 27
    },
    {
     "cell_type": "markdown",
     "metadata": {},
     "source": [
      "In parseOutText(), comment out the following line: \n",
      "\n",
      "words = text_string \n",
      "\n",
      "Augment parseOutText() so that the string it returns has all the words stemmed using a SnowballStemmer (use the nltk package, some examples that I found helpful can be found here: http://www.nltk.org/howto/stem.html ). Rerun parse_test.py, which will use your updated parseOutText() function--what\u2019s your output now?\n",
      "\n",
      "Hint: you'll need to break the string down into individual words, stem each word, then recombine all the words into one string."
     ]
    },
    {
     "cell_type": "code",
     "collapsed": false,
     "input": [
      "%%writefile ../tools/parse_out_email_text.py\n",
      "\n",
      "from nltk.stem.snowball import SnowballStemmer\n",
      "import string\n",
      "\n",
      "def parseOutText(f):\n",
      "    \"\"\" given an opened email file f, parse out all text below the\n",
      "        metadata block at the top\n",
      "        (in Part 2, you will also add stemming capabilities)\n",
      "        and return a string that contains all the words\n",
      "        in the email (space-separated) \n",
      "        \n",
      "        example use case:\n",
      "        f = open(\"email_file_name.txt\", \"r\")\n",
      "        text = parseOutText(f)\n",
      "        \n",
      "        \"\"\"\n",
      "\n",
      "\n",
      "    f.seek(0)  ### go back to beginning of file (annoying)\n",
      "    all_text = f.read()\n",
      "\n",
      "    ### split off metadata\n",
      "    content = all_text.split(\"X-FileName:\")\n",
      "    words = \"\"\n",
      "    if len(content) > 1:\n",
      "        ### remove punctuation\n",
      "        text_string = content[1].translate(string.maketrans(\"\", \"\"), string.punctuation)\n",
      "\n",
      "        ### split the text string into individual words, stem each word,\n",
      "        ### and append the stemmed word to words (make sure there's a single\n",
      "        ### space between each stemmed word)\n",
      "        from nltk.stem.snowball import SnowballStemmer\n",
      "        stemmer = SnowballStemmer(\"english\")\n",
      "        words = ' '.join([stemmer.stem(word) for word in text_string.split()])\n",
      "            \n",
      "\n",
      "    return words\n",
      "\n",
      "    \n",
      "\n",
      "def main():\n",
      "    ff = open(\"../text_learning/test_email.txt\", \"r\")\n",
      "    text = parseOutText(ff)\n",
      "    print text\n",
      "\n",
      "\n",
      "\n",
      "if __name__ == '__main__':\n",
      "    main()\n",
      "\n"
     ],
     "language": "python",
     "metadata": {},
     "outputs": [
      {
       "output_type": "stream",
       "stream": "stdout",
       "text": [
        "Overwriting ../tools/parse_out_email_text.py\n"
       ]
      }
     ],
     "prompt_number": 8
    },
    {
     "cell_type": "markdown",
     "metadata": {},
     "source": [
      "In vectorize_text.py, you will iterate through all the emails from Chris and from Sara. For each email, feed the opened email to parseOutText() and return the stemmed text string. Then do two things:\n",
      "\n",
      "remove signature words (\u201csara\u201d, \u201cshackleton\u201d, \u201cchris\u201d, \u201cgermani\u201d--bonus points if you can figure out why it's \"germani\" and not \"germany\")\n",
      "append the updated text string to word_data -- if the email is from Sara, append 0 (zero) to from_data, or append a 1 if Chris wrote the email.\n",
      "Once this step is complete, you should have two lists: one contains the stemmed text of each email, and the second should contain the labels that encode (via a 0 or 1) who the author of that email is.\n",
      "\n",
      "Running over all the emails can take a little while (5 minutes or more), so we've added a temp_counter to cut things off after the first 200 emails. Of course, once everything is working, you'd want to run over the full dataset.\n",
      "\n",
      "In the box below, put the string that you get for word_data[152]."
     ]
    },
    {
     "cell_type": "code",
     "collapsed": false,
     "input": [
      "%load vectorize_text.py"
     ],
     "language": "python",
     "metadata": {},
     "outputs": [],
     "prompt_number": 7
    },
    {
     "cell_type": "code",
     "collapsed": false,
     "input": [
      "# %%writefile vectorize_text.py\n",
      "import pickle\n",
      "import sys\n",
      "import re\n",
      "sys.path.append( \"../tools/\" )\n",
      "from parse_out_email_text import parseOutText\n",
      "\n",
      "\"\"\"\n",
      "    starter code to process the emails from Sara and Chris to extract\n",
      "    the features and get the documents ready for classification\n",
      "\n",
      "    the list of all the emails from Sara are in the from_sara list\n",
      "    likewise for emails from Chris (from_chris)\n",
      "\n",
      "    the actual documents are in the Enron email dataset, which\n",
      "    you downloaded/unpacked in Part 0 of the first mini-project\n",
      "\n",
      "    the data is stored in lists and packed away in pickle files at the end\n",
      "\n",
      "\"\"\"\n",
      "\n",
      "\n",
      "from_sara  = open(\"from_sara.txt\", \"r\")\n",
      "from_chris = open(\"from_chris.txt\", \"r\")\n",
      "\n",
      "from_data = []\n",
      "word_data = []\n",
      "\n",
      "### temp_counter is a way to speed up the development--there are\n",
      "### thousands of emails from Sara and Chris, so running over all of them\n",
      "### can take a long time\n",
      "### temp_counter helps you only look at the first 200 emails in the list\n",
      "temp_counter = 0\n",
      "\n",
      "\n",
      "for name, from_person in [(\"sara\", from_sara), (\"chris\", from_chris)]:\n",
      "    for path in from_person:\n",
      "        ### only look at first 200 emails when developing\n",
      "        ### once everything is working, remove this line to run over full dataset\n",
      "#         temp_counter += 1\n",
      "#         if temp_counter < 200:\n",
      "        path = \"../\"+path[:-1]\n",
      "        #print path\n",
      "        email = open(path, \"r\")\n",
      "\n",
      "        ### use parseOutText to extract the text from the opened email\n",
      "        words = parseOutText(email)\n",
      "\n",
      "        ### use str.replace() to remove any instances of the words\n",
      "        #last two words are the outliers to get rid of in next lesson, feature-selection.\n",
      "        #I'm adding this from the next lesson, the future. Whaaaa?\n",
      "        list_rep  = [\"sara\", \"shackleton\", \"chris\", \"germani\"]\n",
      "#         list_rep  = [\"sara\", \"shackleton\", \"chris\", \"germani\",\"sshacklensf\",\"cgermannsf\"]\n",
      "        for e in list_rep:\n",
      "            words = words.replace(e,\"\")\n",
      "        ### append the text to word_data\n",
      "        word_data.append(words)\n",
      "        ### append a 0 to from_data if email is from Sara, and 1 if email is from Chris\n",
      "        from_data.append(0 if name == \"sara\" else 1)\n",
      "\n",
      "        email.close()\n",
      "\n",
      "print \"emails processed\"\n",
      "from_sara.close()\n",
      "from_chris.close()\n",
      "\n",
      "# pickle.dump( word_data, open(\"your_word_data.pkl\", \"w\") )\n",
      "# pickle.dump( from_data, open(\"your_email_authors.pkl\", \"w\") )\n",
      "\n",
      "print word_data[152]\n",
      "\n",
      "\n",
      "\n",
      "### in Part 4, do TfIdf vectorization here\n"
     ],
     "language": "python",
     "metadata": {},
     "outputs": [
      {
       "output_type": "stream",
       "stream": "stdout",
       "text": [
        "emails processed\n",
        "tjonesnsf stephani and sam need nymex calendar\n"
       ]
      }
     ],
     "prompt_number": 2
    },
    {
     "cell_type": "code",
     "collapsed": false,
     "input": [
      "print len(word_data)"
     ],
     "language": "python",
     "metadata": {},
     "outputs": [
      {
       "output_type": "stream",
       "stream": "stdout",
       "text": [
        "17578\n"
       ]
      }
     ],
     "prompt_number": 3
    },
    {
     "cell_type": "markdown",
     "metadata": {},
     "source": [
      "Transform the word_data into a tf-idf matrix using the sklearn TfIdf transformation. Remove english stopwords.\n",
      "\n",
      "You can access the mapping between words and feature numbers using get_feature_names(), which returns a list of all the words in the vocabulary. How many words are there?\n",
      "\n",
      "Be sure to use the tf-idf Vectorizer class to transform the word_data.Don't forget to remove english stop words when you set up the vectorizer."
     ]
    },
    {
     "cell_type": "code",
     "collapsed": false,
     "input": [
      "from nltk.corpus import stopwords"
     ],
     "language": "python",
     "metadata": {},
     "outputs": [],
     "prompt_number": 4
    },
    {
     "cell_type": "code",
     "collapsed": false,
     "input": [
      "sw = stopwords.words(\"english\")"
     ],
     "language": "python",
     "metadata": {},
     "outputs": [],
     "prompt_number": 5
    },
    {
     "cell_type": "code",
     "collapsed": false,
     "input": [
      "from sklearn.feature_extraction.text import TfidfVectorizer\n",
      "vectorizer = TfidfVectorizer(stop_words=\"english\",lowercase=True)\n",
      "vectorizer.fit_transform(word_data)\n",
      "# bag_words = vectorizer.transform(word_data)\n",
      "print len(vectorizer.get_feature_names())"
     ],
     "language": "python",
     "metadata": {},
     "outputs": [
      {
       "output_type": "stream",
       "stream": "stdout",
       "text": [
        "38757\n"
       ]
      }
     ],
     "prompt_number": 6
    },
    {
     "cell_type": "markdown",
     "metadata": {},
     "source": [
      "What is word number 34597 in your TfIdf?\n",
      "\n",
      "(Just to be clear--if the question were \"what is word number 100,\" we would be looking for the word corresponding to vocab_list[100]. Zero-indexed arrays are so confusing to talk about sometimes.)"
     ]
    },
    {
     "cell_type": "code",
     "collapsed": false,
     "input": [
      "vectorizer.get_feature_names()[34597]"
     ],
     "language": "python",
     "metadata": {},
     "outputs": [
      {
       "metadata": {},
       "output_type": "pyout",
       "prompt_number": 7,
       "text": [
        "u'stephaniethank'"
       ]
      }
     ],
     "prompt_number": 7
    },
    {
     "cell_type": "markdown",
     "metadata": {},
     "source": [
      "> **REFERENCE**:\n",
      "\n",
      "> * https://www.udacity.com/course/viewer#!/c-ud120/l-2892378590/e-3012738650/m-3015918703"
     ]
    },
    {
     "cell_type": "code",
     "collapsed": false,
     "input": [],
     "language": "python",
     "metadata": {},
     "outputs": []
    }
   ],
   "metadata": {}
  }
 ]
}