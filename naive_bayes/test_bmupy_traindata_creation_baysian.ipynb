{
 "cells": [
  {
   "cell_type": "code",
   "execution_count": 32,
   "metadata": {
    "collapsed": false
   },
   "outputs": [
    {
     "name": "stdout",
     "output_type": "stream",
     "text": [
      "[0.6394267984578837, 0.025010755222666936, 0.27502931836911926, 0.22321073814882275, 0.7364712141640124, 0.6766994874229113, 0.8921795677048454, 0.08693883262941615, 0.4219218196852704, 0.029797219438070344, 0.21863797480360336, 0.5053552881033624, 0.026535969683863625, 0.1988376506866485, 0.6498844377795232, 0.5449414806032167, 0.2204406220406967, 0.5892656838759087, 0.8094304566778266, 0.006498759678061017]\n",
      "20\n",
      "0.805819251833\n",
      "14\n",
      "[ 1  2  3  4  5  6  7  8  9 10 11 12 13 14 15 16 17 18 19]\n",
      "[0.3402505165179919, 0.15547949981178155, 0.9572130722067812, 0.33659454511262676, 0.09274584338014791]\n",
      "[1, 3, 2, 3, 3, 2, 3, 2, 2]\n"
     ]
    }
   ],
   "source": [
    "import random\n",
    "import numpy as np\n",
    "n_points=20\n",
    "random.seed(42)\n",
    "grade = [random.random() for ii in range(0,n_points)]\n",
    "#     bumpy = [random.random() for ii in range(0,n_points)]\n",
    "#     error = [random.random() for ii in range(0,n_points)]\n",
    "#     y = [round(grade[ii]*bumpy[ii]+0.3+0.1*error[ii]) for ii in range(0,n_points)]\n",
    "#     for ii in range(0, len(y)):\n",
    "#         if grade[ii]>0.8 or bumpy[ii]>0.8:\n",
    "#             y[ii] = 1.0\n",
    "print grade\n",
    "print len(grade)\n",
    "grade_np = random.random()\n",
    "print grade_np\n",
    "print random.randint(1,20)\n",
    "print np.arange(1,20)\n",
    "print [random.random() for j in range(0,5)]\n",
    "print [random.randint(1,3) for k in range(0,9)]  # 9 random integer(from 1 to 3) generator"
   ]
  },
  {
   "cell_type": "code",
   "execution_count": 37,
   "metadata": {
    "collapsed": false
   },
   "outputs": [
    {
     "name": "stdout",
     "output_type": "stream",
     "text": [
      "[[0 1]\n",
      " [2 3]\n",
      " [4 5]\n",
      " [6 7]\n",
      " [8 9]]\n",
      "y: [0, 1, 2, 3, 4]\n",
      "X_train :\n",
      "[[4 5]\n",
      " [0 1]\n",
      " [6 7]]\n",
      "y_train :\n",
      "[2, 0, 3]\n",
      "X_test :\n",
      "[[2 3]\n",
      " [8 9]]\n",
      "y_test :\n",
      "[1, 4]\n"
     ]
    }
   ],
   "source": [
    "# train data & test data split\n",
    "from sklearn.cross_validation import train_test_split\n",
    "X, y = np.arange(10).reshape((5, 2)), range(5)\n",
    "print X\n",
    "print \"y:\",y\n",
    "list(y)\n",
    "X_train, X_test, y_train, y_test = train_test_split(X, y, test_size=0.33, random_state=42)\n",
    "print \"X_train :\\n\",X_train\n",
    "print \"y_train :\\n\",y_train\n",
    "print \"X_test :\\n\",X_test\n",
    "print \"y_test :\\n\",y_test"
   ]
  },
  {
   "cell_type": "code",
   "execution_count": null,
   "metadata": {
    "collapsed": true
   },
   "outputs": [],
   "source": []
  }
 ],
 "metadata": {
  "kernelspec": {
   "display_name": "Python 2",
   "language": "python",
   "name": "python2"
  },
  "language_info": {
   "codemirror_mode": {
    "name": "ipython",
    "version": 2
   },
   "file_extension": ".py",
   "mimetype": "text/x-python",
   "name": "python",
   "nbconvert_exporter": "python",
   "pygments_lexer": "ipython2",
   "version": "2.7.12"
  }
 },
 "nbformat": 4,
 "nbformat_minor": 0
}
