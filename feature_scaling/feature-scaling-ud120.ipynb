{
 "metadata": {
  "name": "",
  "signature": "sha256:d9b8e0a93e0b6e0008a0589f805d27c80bd1e8d0e3b232e3a75eed2942a97076"
 },
 "nbformat": 3,
 "nbformat_minor": 0,
 "worksheets": [
  {
   "cells": [
    {
     "cell_type": "markdown",
     "metadata": {},
     "source": [
      "![jpeg](../galleries/feature_scaling/2.jpg)"
     ]
    },
    {
     "cell_type": "markdown",
     "metadata": {},
     "source": [
      "Feature Selection is one important tool in Machine Learning.It's about how we normalize the range of each of our feature so that it can't dominate from one to another. Let's take this picture for example.\n",
      "<!-- TEASER_END -->"
     ]
    },
    {
     "cell_type": "markdown",
     "metadata": {},
     "source": [
      "Suppose Chris doesn't know what's the t-shirt he has to choose, L or S. But he has two friends, Cameron and Sarah, who knows their t-shirt size. Given height and weight of individual, intuitively, Chris should pick Cameron's size, because by the charasteric, Chris fit more to Cameron, compare to Sarah."
     ]
    },
    {
     "cell_type": "markdown",
     "metadata": {},
     "source": [
      "When we put it into more machine language, sum height and weight, oddly we get Sarah's size(drawn by blue sky label). This happens because height and weight has different range. If we look at the example, weight more dominant because it has larger numbers."
     ]
    },
    {
     "cell_type": "markdown",
     "metadata": {},
     "source": [
      "What we want to do is scaling this features so it manage to has an equal weight. This is called Feature Scaling which we would be discussed today."
     ]
    },
    {
     "cell_type": "markdown",
     "metadata": {},
     "source": [
      "![jpeg](../galleries/feature_scaling/3.jpg)"
     ]
    },
    {
     "cell_type": "markdown",
     "metadata": {},
     "source": [
      "This is the formula that is used to scale the feature. The advantage is we always get the feature scaled from 0 to 1. The disadvantage is if we have outliers, we may have Xmax/Xmin to have an extreme value."
     ]
    },
    {
     "cell_type": "markdown",
     "metadata": {},
     "source": [
      "Let's code this!"
     ]
    },
    {
     "cell_type": "code",
     "collapsed": false,
     "input": [
      "### FYI, the most straightforward implementation might \n",
      "### throw a divide-by-zero error, if the min and max\n",
      "### values are the same\n",
      "### but think about this for a second--that means that every\n",
      "### data point has the same value for that feature!  \n",
      "### why would you rescale it?  Or even use it at all?\n",
      "def featureScaling(arr):\n",
      "  nmax = max(data)\n",
      "  nmin = min(data)\n",
      "  if (nmax == nmin):\n",
      "      return None\n",
      "  normalize = nmax - nmin\n",
      "  return [float(e-nmin)/normalize for e in data ]\n",
      "\n",
      "# tests of your feature scaler--line below is input data\n",
      "data = [115, 140, 175]\n",
      "print featureScaling(data)\n",
      "\n"
     ],
     "language": "python",
     "metadata": {},
     "outputs": [
      {
       "output_type": "stream",
       "stream": "stdout",
       "text": [
        "[0.0, 0.4166666666666667, 1.0]\n"
       ]
      }
     ],
     "prompt_number": 2
    },
    {
     "cell_type": "markdown",
     "metadata": {},
     "source": [
      "Turns out, sklearn already have this with few lines of code."
     ]
    },
    {
     "cell_type": "code",
     "collapsed": false,
     "input": [
      "from sklearn.preprocessing import MinMaxScaler"
     ],
     "language": "python",
     "metadata": {},
     "outputs": [],
     "prompt_number": 3
    },
    {
     "cell_type": "code",
     "collapsed": false,
     "input": [
      "import numpy"
     ],
     "language": "python",
     "metadata": {},
     "outputs": [],
     "prompt_number": 4
    },
    {
     "cell_type": "code",
     "collapsed": false,
     "input": [
      "weights = numpy.array([[115.0],[140.0],[175.0]])"
     ],
     "language": "python",
     "metadata": {},
     "outputs": [],
     "prompt_number": 8
    },
    {
     "cell_type": "code",
     "collapsed": false,
     "input": [
      "scaler = MinMaxScaler()"
     ],
     "language": "python",
     "metadata": {},
     "outputs": [],
     "prompt_number": 9
    },
    {
     "cell_type": "code",
     "collapsed": false,
     "input": [
      "rescaled_weight = scaler.fit_transform(weights)#find min max and apply all the elements,\n",
      "#it expect floating point element"
     ],
     "language": "python",
     "metadata": {},
     "outputs": [],
     "prompt_number": 11
    },
    {
     "cell_type": "code",
     "collapsed": false,
     "input": [
      "rescaled_weight"
     ],
     "language": "python",
     "metadata": {},
     "outputs": [
      {
       "metadata": {},
       "output_type": "pyout",
       "prompt_number": 12,
       "text": [
        "array([[ 0.        ],\n",
        "       [ 0.41666667],\n",
        "       [ 1.        ]])"
       ]
      }
     ],
     "prompt_number": 12
    },
    {
     "cell_type": "markdown",
     "metadata": {},
     "source": [
      "![jpeg](../galleries/feature_scaling/4.jpg)"
     ]
    },
    {
     "cell_type": "markdown",
     "metadata": {},
     "source": [
      "\n",
      "SVM and k-Means Clustering has both depend on decision boundary, linear model, which means involve gradient that depends on both y and x axis. If we remember the graph, it actually plot two feature(let's say only two feature) and it has to somehow has same weight.\n",
      "\n",
      "The Decision Tree however, doesn't apply things like gradient. It only split either vertically or horizontally. It only split x-axis or y-axis, but not both. That's why the split only depends on each of the feature, not joint.\n",
      "\n",
      "Linear Regression, has same similar principles, which ignore the relation of the features. each of feature in LR has its own coef_, and scaled automatically depending on its coef_. Because of that it doesn't require the relationship of the features which result to unaffected by feature scalling.\n"
     ]
    },
    {
     "cell_type": "heading",
     "level": 3,
     "metadata": {},
     "source": [
      "Mini Project"
     ]
    },
    {
     "cell_type": "markdown",
     "metadata": {},
     "source": [
      "As usual, because this blog post are the note that I have taken from Udacity course, Here I attack some of the problem they have at their mini project. You can see the link of the course for this note at the bottom of this page."
     ]
    },
    {
     "cell_type": "markdown",
     "metadata": {},
     "source": [
      "Apply feature scaling to your k-means clustering code from the last lesson, on the \u201csalary\u201d and \u201cexercised_stock_options\u201d features (use only these two features). What would be the rescaled value of a \"salary\" feature that had an original value of 200,000, and an \"exercised_stock_options\" feature of 1 million? (Be sure to represent these numbers as floats, not integers!)"
     ]
    },
    {
     "cell_type": "code",
     "collapsed": false,
     "input": [
      "import pickle"
     ],
     "language": "python",
     "metadata": {},
     "outputs": [],
     "prompt_number": 14
    },
    {
     "cell_type": "code",
     "collapsed": false,
     "input": [
      "data_dict = pickle.load( open(\"../final_project/final_project_dataset.pkl\", \"r\") )\n",
      "### there's an outlier--remove it! \n",
      "data_dict.pop(\"TOTAL\", 0)"
     ],
     "language": "python",
     "metadata": {},
     "outputs": []
    },
    {
     "cell_type": "code",
     "collapsed": false,
     "input": [
      "salary = []\n",
      "ex_stok = []\n",
      "for users in data_dict:\n",
      "    val = data_dict[users][\"salary\"]\n",
      "    if val == 'NaN':\n",
      "        continue\n",
      "    salary.append(float(val))\n",
      "    val = data_dict[users][\"exercised_stock_options\"]\n",
      "    if val == 'NaN':\n",
      "        continue\n",
      "    ex_stok.append(float(val))"
     ],
     "language": "python",
     "metadata": {},
     "outputs": [],
     "prompt_number": 64
    },
    {
     "cell_type": "code",
     "collapsed": false,
     "input": [
      "salary = [min(salary),200000.0,max(salary)]\n",
      "ex_stok = [min(ex_stok),1000000.0,max(ex_stok)]"
     ],
     "language": "python",
     "metadata": {},
     "outputs": [],
     "prompt_number": 65
    },
    {
     "cell_type": "code",
     "collapsed": false,
     "input": [
      "print salary\n",
      "print ex_stok"
     ],
     "language": "python",
     "metadata": {},
     "outputs": [
      {
       "output_type": "stream",
       "stream": "stdout",
       "text": [
        "[477.0, 200000.0, 1111258.0]\n",
        "[17378.0, 1000000.0, 34348384.0]\n"
       ]
      }
     ],
     "prompt_number": 66
    },
    {
     "cell_type": "code",
     "collapsed": false,
     "input": [
      "salary = numpy.array([[e] for e in salary])\n",
      "ex_stok = numpy.array([[e] for e in ex_stok])"
     ],
     "language": "python",
     "metadata": {},
     "outputs": [],
     "prompt_number": 67
    },
    {
     "cell_type": "code",
     "collapsed": false,
     "input": [
      "scaler_salary = MinMaxScaler()\n",
      "scaler_stok = MinMaxScaler()"
     ],
     "language": "python",
     "metadata": {},
     "outputs": [],
     "prompt_number": 68
    },
    {
     "cell_type": "code",
     "collapsed": false,
     "input": [
      "rescaled_salary = scaler_salary.fit_transform(salary)\n",
      "rescaled_stock = scaler_salary.fit_transform(ex_stok)"
     ],
     "language": "python",
     "metadata": {},
     "outputs": [],
     "prompt_number": 69
    },
    {
     "cell_type": "code",
     "collapsed": false,
     "input": [
      "print rescaled_salary\n",
      "print rescaled_stock"
     ],
     "language": "python",
     "metadata": {},
     "outputs": [
      {
       "output_type": "stream",
       "stream": "stdout",
       "text": [
        "[[ 0.        ]\n",
        " [ 0.17962407]\n",
        " [ 1.        ]]\n",
        "[[ 0.      ]\n",
        " [ 0.028622]\n",
        " [ 1.      ]]\n"
       ]
      }
     ],
     "prompt_number": 70
    },
    {
     "cell_type": "markdown",
     "metadata": {},
     "source": [
      "One could argue about whether rescaling the financial data is strictly necessary, perhaps we want to keep the information that a 100,000 salary and 40,000,000 in stock options are dramatically different quantities. What if we wanted to cluster based on \u201cfrom_messages\u201d (the number of email messages sent from a particular email account) and \u201csalary\u201d? Would feature scaling be unnecessary in this case, or critical?"
     ]
    },
    {
     "cell_type": "markdown",
     "metadata": {},
     "source": [
      "Critical! Emails typically number in the hundreds or low thousands, salaries are usually at least 1000x higher."
     ]
    },
    {
     "cell_type": "markdown",
     "metadata": {},
     "source": [
      "> **REFERENCE**:\n",
      "\n",
      "> * https://www.udacity.com/course/viewer#!/c-ud120/l-2864738562/e-2998388773/m-3046488600"
     ]
    },
    {
     "cell_type": "code",
     "collapsed": false,
     "input": [],
     "language": "python",
     "metadata": {},
     "outputs": []
    }
   ],
   "metadata": {}
  }
 ]
}