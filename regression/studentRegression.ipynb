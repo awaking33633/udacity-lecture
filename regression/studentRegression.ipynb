{
 "cells": [
  {
   "cell_type": "code",
   "execution_count": 2,
   "metadata": {
    "collapsed": true
   },
   "outputs": [],
   "source": [
    "# %load studentRegression.py\n",
    "def studentReg(ages_train, net_worths_train):\n",
    "    ### import the sklearn regression module, create, and train your regression\n",
    "    from sklearn import linear_model\n",
    "    ### name your regression reg\n",
    "    reg = linear_model.LinearRegression()\n",
    "   \n",
    "    ### your code goes here!\n",
    "    reg.fit(ages_train, net_worths_train)\n",
    "    \n",
    "    \n",
    "    return reg"
   ]
  },
  {
   "cell_type": "code",
   "execution_count": 1,
   "metadata": {
    "collapsed": false
   },
   "outputs": [
    {
     "name": "stdout",
     "output_type": "stream",
     "text": [
      "mean_sleep: 3.0\n",
      "mean_scores: 6.0\n",
      "normalized_sleep :\n",
      "[-3.0, -2.0, -1.0, 0.0, 1.0]\n",
      "normalized_scores :\n",
      "[-6.0, -5.0, -4.0, -3.0, -2.0]\n",
      "slope:  -2.0\n",
      "Your linear model is y=-2.0*x+4.0\n"
     ]
    }
   ],
   "source": [
    "#\n",
    "#  #not correct \n",
    "# Regression and Classification programming exercises\n",
    "#\n",
    "#\n",
    "\n",
    "\n",
    "#\n",
    "#\tIn this exercise we will be taking a small data set and computing a linear function\n",
    "#\tthat fits it, by hand.\n",
    "#\t\n",
    "\n",
    "#\tthe data set\n",
    "\n",
    "import numpy as np\n",
    "\n",
    "# sleep = [5,6,7,8,10]\n",
    "# scores = [65,51,75,75,86]\n",
    "\n",
    "sleep = [1,2,3,4,5]\n",
    "scores = [2,4,6,8,10]\n",
    "    #\tFirst, compute the average amount of each list\n",
    "\n",
    "avg_sleep = 0\n",
    "avg_scores = 0\n",
    "\n",
    "    #\tThen normalize the lists by subtracting the mean value from each entry\n",
    "\n",
    "normalized_sleep = []\n",
    "normalized_scores = []\n",
    "\n",
    "mean_sleep = np.mean(sleep)\n",
    "mean_scores = np.mean(scores)\n",
    "\n",
    "print \"mean_sleep:\",mean_sleep\n",
    "print \"mean_scores:\",mean_scores\n",
    "for e in range(len(sleep)):\n",
    "    normalized_sleep.append(e-mean_sleep)\n",
    "for g in range(len(scores)):\n",
    "    normalized_scores.append(g-mean_scores)\n",
    "print \"normalized_sleep :\\n\",normalized_sleep\n",
    "print \"normalized_scores :\\n\",normalized_scores\n",
    "    #\tCompute the slope of the line by taking the sum over each student\n",
    "    #\tof the product of their normalized sleep times their normalized test score.\n",
    "    #\tThen divide this by the sum of squares of the normalized sleep times.\n",
    "\n",
    "#slope = 0\n",
    "\n",
    "sum_prod_sl_sc = 0\n",
    "sum_scores=0\n",
    "for i in range(len(normalized_sleep)):\n",
    "    sum_prod_sl_sc =+ (normalized_sleep[i]*normalized_scores[i])\n",
    "    sum_scores =+ normalized_sleep[i]**2\n",
    "slope = sum_prod_sl_sc/sum_scores\n",
    "print \"slope: \",slope\n",
    "#scores[0] - avg_scores = slope * (sleep[0] -avg_sleep)\n",
    "#scores[0] = slope * sleep[0] + b\n",
    "b =scores[0] - (slope * sleep[0])\n",
    "m = slope\n",
    "    #\tFinally, We have a linear function of the form\n",
    "    #\ty - avg_y = slope * ( x - avg_x )\n",
    "    #\tRewrite this function in the form\n",
    "    #\ty = m * x + b\n",
    "    #\tThen return the values m, b\n",
    "\n",
    "print \"Your linear model is y={}*x+{}\".format(m,b)"
   ]
  },
  {
   "cell_type": "code",
   "execution_count": 17,
   "metadata": {
    "collapsed": false
   },
   "outputs": [
    {
     "name": "stdout",
     "output_type": "stream",
     "text": [
      "Your linear model is y=-2.0*x+4.0\n"
     ]
    }
   ],
   "source": [
    "#\n",
    "#\n",
    "# Regression and Classification programming exercises\n",
    "#\n",
    "#\n",
    "\n",
    "\n",
    "#\n",
    "#\tIn this exercise we will be taking a small data set and computing a linear function\n",
    "#\tthat fits it, by hand.\n",
    "#\t\n",
    "\n",
    "#\tthe data set\n",
    "\n",
    "import numpy as np\n",
    "\n",
    "sleep = [5,6,7,8,10]\n",
    "scores = [65,51,75,75,86]\n",
    "\n",
    "\n",
    "def compute_regression(sleep,scores):\n",
    "\n",
    "    #\tFirst, compute the average amount of each list\n",
    "\n",
    "    avg_sleep = 0\n",
    "    avg_scores = 0\n",
    "\n",
    "    #\tThen normalize the lists by subtracting the mean value from each entry\n",
    "\n",
    "    normalized_sleep = []\n",
    "    normalized_scores = []\n",
    "\n",
    "    #\tCompute the slope of the line by taking the sum over each student\n",
    "    #\tof the product of their normalized sleep times their normalized test score.\n",
    "    #\tThen divide this by the sum of squares of the normalized sleep times.\n",
    "\n",
    "    slope = 0\n",
    "\n",
    "    #\tFinally, We have a linear function of the form\n",
    "    #\ty - avg_y = slope * ( x - avg_x )\n",
    "    #\tRewrite this function in the form\n",
    "    #\ty = m * x + b\n",
    "    #\tThen return the values m, b\n",
    "\n",
    "    return m,b\n",
    "\n",
    "\n",
    "if __name__==\"__main__\":\n",
    "    m,b = compute_regression(sleep,scores)\n",
    "    print \"Your linear model is y={}*x+{}\".format(m,b)"
   ]
  },
  {
   "cell_type": "code",
   "execution_count": null,
   "metadata": {
    "collapsed": true
   },
   "outputs": [],
   "source": []
  }
 ],
 "metadata": {
  "kernelspec": {
   "display_name": "Python [Root]",
   "language": "python",
   "name": "Python [Root]"
  },
  "language_info": {
   "codemirror_mode": {
    "name": "ipython",
    "version": 2
   },
   "file_extension": ".py",
   "mimetype": "text/x-python",
   "name": "python",
   "nbconvert_exporter": "python",
   "pygments_lexer": "ipython2",
   "version": "2.7.12"
  }
 },
 "nbformat": 4,
 "nbformat_minor": 0
}
