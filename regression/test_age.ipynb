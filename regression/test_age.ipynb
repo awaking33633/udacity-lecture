{
 "cells": [
  {
   "cell_type": "code",
   "execution_count": 23,
   "metadata": {
    "collapsed": false
   },
   "outputs": [
    {
     "name": "stdout",
     "output_type": "stream",
     "text": [
      "ages:\n",
      "[49, 21, 32, 30, 53, 51, 61, 23, 39, 21, 30, 43, 21, 29, 49, 45, 30, 47, 57, 20, 57, 52, 35, 27, 64, 35, 24, 24, 58, 47, 57, 53, 44, 64, 37, 45, 58, 48, 59, 46, 52, 22, 30, 33, 23, 30, 24, 32, 49, 36, 37, 29, 32, 63, 49, 48, 27, 53, 27, 37, 65, 49, 45, 51, 58, 55, 30, 21, 34, 32, 29, 63, 60, 34, 50, 38, 62, 41, 32, 31, 45, 32, 46, 61, 38, 30, 65, 43, 24, 22, 25, 48, 56, 39, 22, 37, 65, 44, 64, 59]\n",
      "len(ages) : 100\n",
      "after reshape :\n",
      "[[49]\n",
      " [21]\n",
      " [32]\n",
      " [30]\n",
      " [53]\n",
      " [51]\n",
      " [61]\n",
      " [23]\n",
      " [39]\n",
      " [21]\n",
      " [30]\n",
      " [43]\n",
      " [21]\n",
      " [29]\n",
      " [49]\n",
      " [45]\n",
      " [30]\n",
      " [47]\n",
      " [57]\n",
      " [20]\n",
      " [57]\n",
      " [52]\n",
      " [35]\n",
      " [27]\n",
      " [64]\n",
      " [35]\n",
      " [24]\n",
      " [24]\n",
      " [58]\n",
      " [47]\n",
      " [57]\n",
      " [53]\n",
      " [44]\n",
      " [64]\n",
      " [37]\n",
      " [45]\n",
      " [58]\n",
      " [48]\n",
      " [59]\n",
      " [46]\n",
      " [52]\n",
      " [22]\n",
      " [30]\n",
      " [33]\n",
      " [23]\n",
      " [30]\n",
      " [24]\n",
      " [32]\n",
      " [49]\n",
      " [36]\n",
      " [37]\n",
      " [29]\n",
      " [32]\n",
      " [63]\n",
      " [49]\n",
      " [48]\n",
      " [27]\n",
      " [53]\n",
      " [27]\n",
      " [37]\n",
      " [65]\n",
      " [49]\n",
      " [45]\n",
      " [51]\n",
      " [58]\n",
      " [55]\n",
      " [30]\n",
      " [21]\n",
      " [34]\n",
      " [32]\n",
      " [29]\n",
      " [63]\n",
      " [60]\n",
      " [34]\n",
      " [50]\n",
      " [38]\n",
      " [62]\n",
      " [41]\n",
      " [32]\n",
      " [31]\n",
      " [45]\n",
      " [32]\n",
      " [46]\n",
      " [61]\n",
      " [38]\n",
      " [30]\n",
      " [65]\n",
      " [43]\n",
      " [24]\n",
      " [22]\n",
      " [25]\n",
      " [48]\n",
      " [56]\n",
      " [39]\n",
      " [22]\n",
      " [37]\n",
      " [65]\n",
      " [44]\n",
      " [64]\n",
      " [59]]\n",
      "26.121932442\n",
      "\n"
     ]
    }
   ],
   "source": [
    "#%%writefile ages_net_worths.py\n",
    "\n",
    "import numpy\n",
    "import numpy as np\n",
    "import random\n",
    "random.seed(42)\n",
    "numpy.random.seed(42)\n",
    "\n",
    "ages = []\n",
    "for ii in range(100):\n",
    "    ages.append( random.randint(20,65) )  #random.randint(start,end)\n",
    "net_worths = [ii * 6.25 + numpy.random.normal(scale=40.) for ii in ages]\n",
    "print \"ages:\\n\",ages\n",
    "print \"len(ages) :\",len(ages)\n",
    "### need massage list into a 2d numpy array to get it to work in LinearRegression\n",
    "ages       = numpy.reshape( numpy.array(ages), (len(ages), 1)) #np.reshape(a,b,c) as for array a, convert to b*c metrics \n",
    "print \"after reshape :\\n\",ages\n",
    "#np.reshape(a,b,c) : af for array \"a\" , reshape to row: b * column: c \n",
    "net_worths = numpy.reshape( numpy.array(net_worths), (len(net_worths), 1))  \n",
    "\n",
    "from sklearn.cross_validation import train_test_split\n",
    "ages_train, ages_test, net_worths_train, net_worths_test = train_test_split(ages, net_worths)\n",
    "\n",
    "#ages_train, ages_test, net_worths_train, net_worths_test\n",
    "#print net_worths\n",
    "#\n",
    "\n",
    "print np.random.normal(scale=40.)\n",
    "print "
   ]
  },
  {
   "cell_type": "markdown",
   "metadata": {},
   "source": [
    "#### numpy.random.normal(loc=0.0, scale=1.0, size=None):  Draw random samples from a normal (Gaussian) distribution.\n",
    "* loc :Mean (“centre”) of the distribution.\n",
    "* scale :Standard deviation (spread or “width”) of the distribution.\n",
    "* size : Output shape. If the given shape is, e.g., (m, n, k), then m * n * k samples are drawn. Default is None, in which case a single value is returned."
   ]
  },
  {
   "cell_type": "code",
   "execution_count": 11,
   "metadata": {
    "collapsed": false
   },
   "outputs": [
    {
     "name": "stdout",
     "output_type": "stream",
     "text": [
      "[[ 0.  0.]\n",
      " [ 0.  0.]\n",
      " [ 0.  0.]\n",
      " [ 0.  0.]\n",
      " [ 0.  0.]\n",
      " [ 0.  0.]\n",
      " [ 0.  0.]\n",
      " [ 0.  0.]\n",
      " [ 0.  0.]\n",
      " [ 0.  0.]]\n"
     ]
    }
   ],
   "source": [
    "a = np.zeros((10, 2))\n",
    "print a"
   ]
  },
  {
   "cell_type": "code",
   "execution_count": 12,
   "metadata": {
    "collapsed": false
   },
   "outputs": [
    {
     "name": "stdout",
     "output_type": "stream",
     "text": [
      "[[ 0.  0.  0.  0.  0.  0.  0.  0.  0.  0.]\n",
      " [ 0.  0.  0.  0.  0.  0.  0.  0.  0.  0.]]\n"
     ]
    }
   ],
   "source": [
    "b = a.T\n",
    "print b"
   ]
  },
  {
   "cell_type": "code",
   "execution_count": 13,
   "metadata": {
    "collapsed": false
   },
   "outputs": [
    {
     "name": "stdout",
     "output_type": "stream",
     "text": [
      "[[ 0.  0.  0.  0.  0.  0.  0.  0.  0.  0.]\n",
      " [ 0.  0.  0.  0.  0.  0.  0.  0.  0.  0.]]\n"
     ]
    }
   ],
   "source": [
    "# Taking a view makes it possible to modify the shape without modifying\n",
    "# the initial object.\n",
    "c = b.view()\n",
    "print c"
   ]
  },
  {
   "cell_type": "code",
   "execution_count": 17,
   "metadata": {
    "collapsed": false
   },
   "outputs": [
    {
     "ename": "AttributeError",
     "evalue": "incompatible shape for a non-contiguous array",
     "output_type": "error",
     "traceback": [
      "\u001b[1;31m---------------------------------------------------------------------------\u001b[0m",
      "\u001b[1;31mAttributeError\u001b[0m                            Traceback (most recent call last)",
      "\u001b[1;32m<ipython-input-17-7f6a843e0253>\u001b[0m in \u001b[0;36m<module>\u001b[1;34m()\u001b[0m\n\u001b[1;32m----> 1\u001b[1;33m \u001b[0mc\u001b[0m\u001b[1;33m.\u001b[0m\u001b[0mshape\u001b[0m \u001b[1;33m=\u001b[0m \u001b[1;33m(\u001b[0m\u001b[1;36m20\u001b[0m\u001b[1;33m)\u001b[0m\u001b[1;33m\u001b[0m\u001b[0m\n\u001b[0m",
      "\u001b[1;31mAttributeError\u001b[0m: incompatible shape for a non-contiguous array"
     ]
    }
   ],
   "source": [
    "c.shape = (20)"
   ]
  },
  {
   "cell_type": "code",
   "execution_count": 18,
   "metadata": {
    "collapsed": false
   },
   "outputs": [
    {
     "name": "stdout",
     "output_type": "stream",
     "text": [
      "[0 1 2 3 4 5]\n"
     ]
    }
   ],
   "source": [
    "print np.arange(6)"
   ]
  },
  {
   "cell_type": "code",
   "execution_count": 16,
   "metadata": {
    "collapsed": false
   },
   "outputs": [
    {
     "name": "stdout",
     "output_type": "stream",
     "text": [
      "[[0 1]\n",
      " [2 3]\n",
      " [4 5]]\n"
     ]
    }
   ],
   "source": [
    " a = np.arange(6).reshape((3, 2))\n",
    "print a"
   ]
  },
  {
   "cell_type": "code",
   "execution_count": null,
   "metadata": {
    "collapsed": true
   },
   "outputs": [],
   "source": []
  }
 ],
 "metadata": {
  "kernelspec": {
   "display_name": "Python 2",
   "language": "python",
   "name": "python2"
  },
  "language_info": {
   "codemirror_mode": {
    "name": "ipython",
    "version": 2
   },
   "file_extension": ".py",
   "mimetype": "text/x-python",
   "name": "python",
   "nbconvert_exporter": "python",
   "pygments_lexer": "ipython2",
   "version": "2.7.12"
  }
 },
 "nbformat": 4,
 "nbformat_minor": 0
}
