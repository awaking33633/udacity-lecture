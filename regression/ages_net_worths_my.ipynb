{
 "cells": [
  {
   "cell_type": "code",
   "execution_count": 4,
   "metadata": {
    "collapsed": false
   },
   "outputs": [],
   "source": [
    "# %%writefile ages_net_worths.py\n",
    "\n",
    "import numpy\n",
    "import random\n",
    "\n",
    "def ageNetWorthData():\n",
    "\n",
    "    random.seed(42)\n",
    "    numpy.random.seed(42)\n",
    "\n",
    "    ages = []\n",
    "    for ii in range(100):\n",
    "        ages.append( random.randint(20,65) )  #random.randint(start,end)\n",
    "    net_worths = [ii * 6.25 + numpy.random.normal(scale=40.) for ii in ages]\n",
    "### need massage list into a 2d numpy array to get it to work in LinearRegression\n",
    "    ages       = numpy.reshape( numpy.array(ages), (len(ages), 1))\n",
    "    net_worths = numpy.reshape( numpy.array(net_worths), (len(net_worths), 1))\n",
    "\n",
    "    from sklearn.cross_validation import train_test_split\n",
    "#train_test_split(arrays, options)Split arrays or matrices into random train and test subsets\n",
    "    \n",
    "    ages_train, ages_test, net_worths_train, net_worths_test = train_test_split(ages, net_worths)\n",
    "\n",
    "    return ages_train, ages_test, net_worths_train, net_worths_test"
   ]
  },
  {
   "cell_type": "markdown",
   "metadata": {},
   "source": [
    "#### numpy.random.normal(loc=0.0, scale=1.0, size=None): Draw random samples from a normal (Gaussian) distribution.\n",
    "* loc :Mean (“centre”) of the distribution.\n",
    "* scale :Standard deviation (spread or “width”) of the distribution.\n",
    "* size : Output shape. If the given shape is, e.g., (m, n, k), then m n k samples are drawn. Default is None, in which case a single value is returned."
   ]
  },
  {
   "cell_type": "code",
   "execution_count": 7,
   "metadata": {
    "collapsed": false
   },
   "outputs": [
    {
     "name": "stdout",
     "output_type": "stream",
     "text": [
      "[[0 1]\n",
      " [2 3]\n",
      " [4 5]]\n",
      "[[0 1 2]\n",
      " [3 4 5]]\n"
     ]
    }
   ],
   "source": [
    "#test\n",
    "import numpy as np\n",
    "a = np.arange(6).reshape((3, 2))\n",
    "print a; \"*\"*40\n",
    "print np.reshape(a, (2, 3))"
   ]
  },
  {
   "cell_type": "code",
   "execution_count": 8,
   "metadata": {
    "collapsed": false
   },
   "outputs": [
    {
     "name": "stdout",
     "output_type": "stream",
     "text": [
      "[57, 50, 50, 35, 60, 30, 37, 50, 27, 44, 40, 48, 31, 42, 43, 30, 43, 60, 54, 64, 34, 64, 46, 48, 59, 55, 50, 48, 30, 52, 23, 32, 41, 23, 22, 30, 50, 48, 56, 46, 64, 55, 51, 64, 34, 20, 31, 44, 40, 32, 58, 48, 34, 23, 51, 31, 25, 36, 32, 28, 62, 34, 41, 23, 61, 34, 30, 53, 61, 54, 39, 36, 27, 22, 42, 53, 64, 42, 47, 24, 55, 22, 42, 52, 25, 61, 46, 28, 22, 20, 52, 58, 24, 54, 50, 39, 43, 30, 64, 50]\n",
      "*net_worths:\n",
      "[330.87473270328985, 321.4899641118624, 256.66113793608844, 199.83152296817642, 382.1194594735003, 175.9518335285877, 202.81348144096316, 312.55338282495364, 180.5021518250737, 247.27122240316913, 347.87235975747603, 351.7080372135105, 182.6012550125497, 313.05484161394867, 262.5251752939188, 198.49867340995644, 255.84390139433606, 340.1898586939684, 356.1517460717862, 361.8380916647256, 217.98778317724518, 396.3555493544201, 269.04834989911086, 305.7574930137315, 400.7401591508659, 376.5352674545512, 324.3887108521177, 274.18864528642155, 169.68740941102934, 293.5834554645861, 58.495262133449785, 172.10974682418725, 314.15702401478836, 107.2243565538658, 119.09860801989684, 217.96286464366366, 332.18843624850825, 263.03293728628233, 372.05122013911085, 236.41335920889202, 452.28425754552836, 407.20121357271, 323.6149850223818, 433.2449706861383, 196.74931569111882, 97.19010937200892, 211.79916618081558, 299.53515598901083, 266.05070246089025, 201.4732114695184, 379.23703420436857, 293.4085956263684, 185.14226222569152, 133.5964706228393, 325.830338749599, 135.65246044632926, 141.4046756088904, 188.10818207913943, 204.9174337663364, 167.42287637028988, 285.24457118374374, 247.542138578155, 286.1961218156819, 118.82040574388029, 355.6297611096011, 168.8236557900586, 135.64817332936443, 411.7328480297256, 421.8093004202406, 288.44564661081523, 222.62923555329746, 162.87494660885665, 192.0526556466062, 173.30176913506259, 261.76048281249416, 347.4465930424823, 382.82861600337753, 304.47908328638664, 305.3380152884856, 113.41564412904535, 447.4611303447531, 137.99404181063903, 303.0548991424925, 381.0149470827993, 128.26816943440215, 374.5117573257381, 286.39097777482186, 119.10432678593955, 244.9695022854641, 40.478861081003345, 347.8672126913484, 352.76584607974354, 151.30763324524193, 395.7546946132215, 376.2403104771796, 260.15709339570384, 305.03365787004907, 137.2686323824097, 355.9840428164044, 292.191019746054]\n",
      "100\n",
      "[[57]\n",
      " [50]\n",
      " [50]\n",
      " [35]\n",
      " [60]\n",
      " [30]\n",
      " [37]\n",
      " [50]\n",
      " [27]\n",
      " [44]\n",
      " [40]\n",
      " [48]\n",
      " [31]\n",
      " [42]\n",
      " [43]\n",
      " [30]\n",
      " [43]\n",
      " [60]\n",
      " [54]\n",
      " [64]\n",
      " [34]\n",
      " [64]\n",
      " [46]\n",
      " [48]\n",
      " [59]\n",
      " [55]\n",
      " [50]\n",
      " [48]\n",
      " [30]\n",
      " [52]\n",
      " [23]\n",
      " [32]\n",
      " [41]\n",
      " [23]\n",
      " [22]\n",
      " [30]\n",
      " [50]\n",
      " [48]\n",
      " [56]\n",
      " [46]\n",
      " [64]\n",
      " [55]\n",
      " [51]\n",
      " [64]\n",
      " [34]\n",
      " [20]\n",
      " [31]\n",
      " [44]\n",
      " [40]\n",
      " [32]\n",
      " [58]\n",
      " [48]\n",
      " [34]\n",
      " [23]\n",
      " [51]\n",
      " [31]\n",
      " [25]\n",
      " [36]\n",
      " [32]\n",
      " [28]\n",
      " [62]\n",
      " [34]\n",
      " [41]\n",
      " [23]\n",
      " [61]\n",
      " [34]\n",
      " [30]\n",
      " [53]\n",
      " [61]\n",
      " [54]\n",
      " [39]\n",
      " [36]\n",
      " [27]\n",
      " [22]\n",
      " [42]\n",
      " [53]\n",
      " [64]\n",
      " [42]\n",
      " [47]\n",
      " [24]\n",
      " [55]\n",
      " [22]\n",
      " [42]\n",
      " [52]\n",
      " [25]\n",
      " [61]\n",
      " [46]\n",
      " [28]\n",
      " [22]\n",
      " [20]\n",
      " [52]\n",
      " [58]\n",
      " [24]\n",
      " [54]\n",
      " [50]\n",
      " [39]\n",
      " [43]\n",
      " [30]\n",
      " [64]\n",
      " [50]]\n"
     ]
    }
   ],
   "source": [
    "#test \n",
    "import numpy \n",
    "import random\n",
    "ages=[]\n",
    "for ii in range(100):\n",
    "    ages.append(random.randint(20,65))\n",
    "net_worths = [il2* 6.25 + numpy.random.normal(scale=40.) for il2 in ages]\n",
    "print ages\n",
    "print \"*net_worths:\\n\",net_worths\n",
    "print len(ages)\n",
    "ages_reshape = numpy.reshape(numpy.array(ages), (len(ages),1))  #reshapte to 2d array(100*1)\n",
    "print ages_reshape\n",
    "    "
   ]
  },
  {
   "cell_type": "code",
   "execution_count": 9,
   "metadata": {
    "collapsed": false
   },
   "outputs": [
    {
     "data": {
      "text/plain": [
       "array([[0, 1],\n",
       "       [2, 3],\n",
       "       [4, 5],\n",
       "       [6, 7],\n",
       "       [8, 9]])"
      ]
     },
     "execution_count": 9,
     "metadata": {},
     "output_type": "execute_result"
    }
   ],
   "source": [
    "#test: train_test_split(X, y, test_size=0.33, random_state=42)\n",
    ">>> import numpy as np\n",
    ">>> from sklearn.cross_validation import train_test_split\n",
    ">>> X, y = np.arange(10).reshape((5, 2)), range(5)\n",
    ">>> X"
   ]
  },
  {
   "cell_type": "code",
   "execution_count": 10,
   "metadata": {
    "collapsed": false
   },
   "outputs": [
    {
     "data": {
      "text/plain": [
       "[0, 1, 2, 3, 4]"
      ]
     },
     "execution_count": 10,
     "metadata": {},
     "output_type": "execute_result"
    }
   ],
   "source": [
    ">>> list(y)"
   ]
  },
  {
   "cell_type": "code",
   "execution_count": 12,
   "metadata": {
    "collapsed": true
   },
   "outputs": [],
   "source": [
    "X_train, X_test, y_train, y_test = train_test_split(X, y, test_size=0.33, random_state=42)"
   ]
  },
  {
   "cell_type": "code",
   "execution_count": 14,
   "metadata": {
    "collapsed": false
   },
   "outputs": [
    {
     "name": "stdout",
     "output_type": "stream",
     "text": [
      "X_train \n",
      "[[4 5]\n",
      " [0 1]\n",
      " [6 7]]\n",
      "X_test \n",
      "[[2 3]\n",
      " [8 9]]\n",
      "y_train\n",
      "[2, 0, 3]\n",
      "y_test\n",
      "[1, 4]\n"
     ]
    }
   ],
   "source": [
    "print  \"X_train \\n\", X_train\n",
    "print \"X_test \\n\",X_test\n",
    "print \"y_train\\n\",y_train\n",
    "print \"y_test\\n\",y_test"
   ]
  },
  {
   "cell_type": "code",
   "execution_count": 18,
   "metadata": {
    "collapsed": false
   },
   "outputs": [],
   "source": [
    "# %%writefile regressionQuiz.py\n",
    "\n",
    "import numpy\n",
    "import matplotlib.pyplot as plt\n",
    "\n",
    "from ages_net_worths import ageNetWorthData\n",
    "\n",
    "ages_train, ages_test, net_worths_train, net_worths_test = ageNetWorthData()\n",
    "\n",
    "\n",
    "\n",
    "from sklearn.linear_model import LinearRegression\n",
    "\n",
    "reg = LinearRegression()\n",
    "reg.fit(ages_train, net_worths_train)\n",
    "\n",
    "### get Katie's net worth (she's 27)\n",
    "### sklearn predictions are returned in an array,\n",
    "### so you'll want to do something like net_worth = predict([27])[0]\n",
    "### (not exact syntax, the point is that [0] at the end)\n",
    "km_net_worth = reg.predict([27])[0] ### fill in the line of code to get the right value\n",
    "\n",
    "### get the slope\n",
    "### again, you'll get a 2-D array, so stick the [0][0] at the end\n",
    "slope = reg.coef_ ### fill in the line of code to get the right value\n",
    "\n",
    "### get the intercept\n",
    "### here you get a 1-D array, so stick [0] on the end to access\n",
    "### the info we want\n",
    "intercept = reg.intercept_ ### fill in the line of code to get the right value\n",
    "\n",
    "\n",
    "### get the score on test data\n",
    "test_score = reg.score(ages_test,net_worths_test) ### fill in the line of code to get the right value\n",
    "\n",
    "\n",
    "### get the score on the training data\n",
    "training_score = reg.score(ages_train,net_worths_train) ### fill in the line of code to get the right value\n",
    "\n",
    "\n",
    "\n",
    "def submitFit():\n",
    "    return {\"networth\":km_net_worth,\n",
    "            \"slope\":slope,\n",
    "            \"intercept\":intercept,\n",
    "            \"stats on test\":test_score,\n",
    "            \"stats on training\": training_score}"
   ]
  },
  {
   "cell_type": "code",
   "execution_count": 19,
   "metadata": {
    "collapsed": false
   },
   "outputs": [
    {
     "data": {
      "text/plain": [
       "{'intercept': array([-14.35378133]),\n",
       " 'networth': array([ 160.43205651]),\n",
       " 'slope': array([[ 6.47354955]]),\n",
       " 'stats on test': 0.81236573057499983,\n",
       " 'stats on training': 0.87458823582171819}"
      ]
     },
     "execution_count": 19,
     "metadata": {},
     "output_type": "execute_result"
    }
   ],
   "source": [
    "submitFit()"
   ]
  },
  {
   "cell_type": "code",
   "execution_count": null,
   "metadata": {
    "collapsed": true
   },
   "outputs": [],
   "source": []
  }
 ],
 "metadata": {
  "kernelspec": {
   "display_name": "Python 2",
   "language": "python",
   "name": "python2"
  },
  "language_info": {
   "codemirror_mode": {
    "name": "ipython",
    "version": 2
   },
   "file_extension": ".py",
   "mimetype": "text/x-python",
   "name": "python",
   "nbconvert_exporter": "python",
   "pygments_lexer": "ipython2",
   "version": "2.7.12"
  }
 },
 "nbformat": 4,
 "nbformat_minor": 0
}
