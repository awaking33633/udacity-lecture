{
 "cells": [
  {
   "cell_type": "code",
   "execution_count": 4,
   "metadata": {
    "collapsed": false
   },
   "outputs": [
    {
     "ename": "KeyError",
     "evalue": "'txt'",
     "output_type": "error",
     "traceback": [
      "\u001b[1;31m---------------------------------------------------------------------------\u001b[0m",
      "\u001b[1;31mKeyError\u001b[0m                                  Traceback (most recent call last)",
      "\u001b[1;32m<ipython-input-4-5f97216556ee>\u001b[0m in \u001b[0;36m<module>\u001b[1;34m()\u001b[0m\n\u001b[0;32m     55\u001b[0m \u001b[1;33m\u001b[0m\u001b[0m\n\u001b[0;32m     56\u001b[0m \u001b[1;32mif\u001b[0m \u001b[0m__name__\u001b[0m \u001b[1;33m==\u001b[0m \u001b[1;34m'__main__'\u001b[0m\u001b[1;33m:\u001b[0m\u001b[1;33m\u001b[0m\u001b[0m\n\u001b[1;32m---> 57\u001b[1;33m     \u001b[0mmain\u001b[0m\u001b[1;33m(\u001b[0m\u001b[1;33m)\u001b[0m\u001b[1;33m\u001b[0m\u001b[0m\n\u001b[0m",
      "\u001b[1;32m<ipython-input-4-5f97216556ee>\u001b[0m in \u001b[0;36mmain\u001b[1;34m()\u001b[0m\n\u001b[0;32m     52\u001b[0m \u001b[1;33m\u001b[0m\u001b[0m\n\u001b[0;32m     53\u001b[0m \u001b[1;31m#write_csv('twitter_gmail.csv', messages, append=True)\u001b[0m\u001b[1;33m\u001b[0m\u001b[1;33m\u001b[0m\u001b[0m\n\u001b[1;32m---> 54\u001b[1;33m     \u001b[0mwrite_csv\u001b[0m\u001b[1;33m(\u001b[0m\u001b[1;34m'twitter_gmail.csv'\u001b[0m\u001b[1;33m,\u001b[0m \u001b[0mmessages\u001b[0m\u001b[1;33m,\u001b[0m \u001b[0mappend\u001b[0m\u001b[1;33m=\u001b[0m\u001b[0mTrue\u001b[0m\u001b[1;33m)\u001b[0m\u001b[1;33m\u001b[0m\u001b[0m\n\u001b[0m\u001b[0;32m     55\u001b[0m \u001b[1;33m\u001b[0m\u001b[0m\n\u001b[0;32m     56\u001b[0m \u001b[1;32mif\u001b[0m \u001b[0m__name__\u001b[0m \u001b[1;33m==\u001b[0m \u001b[1;34m'__main__'\u001b[0m\u001b[1;33m:\u001b[0m\u001b[1;33m\u001b[0m\u001b[0m\n",
      "\u001b[1;32m<ipython-input-4-5f97216556ee>\u001b[0m in \u001b[0;36mwrite_csv\u001b[1;34m(fname, rows, header, append, **kwargs)\u001b[0m\n\u001b[0;32m     36\u001b[0m         \u001b[1;32mif\u001b[0m \u001b[0mheader\u001b[0m\u001b[1;33m:\u001b[0m\u001b[1;33m\u001b[0m\u001b[0m\n\u001b[0;32m     37\u001b[0m             \u001b[0mout_csv\u001b[0m\u001b[1;33m.\u001b[0m\u001b[0mwriterow\u001b[0m\u001b[1;33m(\u001b[0m\u001b[0mheader\u001b[0m\u001b[1;33m)\u001b[0m\u001b[1;33m\u001b[0m\u001b[0m\n\u001b[1;32m---> 38\u001b[1;33m         \u001b[0mout_csv\u001b[0m\u001b[1;33m.\u001b[0m\u001b[0mwriterows\u001b[0m\u001b[1;33m(\u001b[0m\u001b[0mrows\u001b[0m\u001b[1;33m)\u001b[0m\u001b[1;33m\u001b[0m\u001b[0m\n\u001b[0m\u001b[0;32m     39\u001b[0m \u001b[1;33m\u001b[0m\u001b[0m\n\u001b[0;32m     40\u001b[0m \u001b[1;32mdef\u001b[0m \u001b[0mmain\u001b[0m\u001b[1;33m(\u001b[0m\u001b[1;33m)\u001b[0m\u001b[1;33m:\u001b[0m\u001b[1;33m\u001b[0m\u001b[0m\n",
      "\u001b[1;32m<ipython-input-4-5f97216556ee>\u001b[0m in \u001b[0;36m<genexpr>\u001b[1;34m((msg,))\u001b[0m\n\u001b[0;32m     48\u001b[0m \u001b[1;31m# and executes it immediately when you run this script.\u001b[0m\u001b[1;33m\u001b[0m\u001b[1;33m\u001b[0m\u001b[0m\n\u001b[0;32m     49\u001b[0m     \u001b[1;31m# I need to parse the content in js and turn it into a generator expression\u001b[0m\u001b[1;33m\u001b[0m\u001b[1;33m\u001b[0m\u001b[0m\n\u001b[1;32m---> 50\u001b[1;33m     \u001b[0mmessages\u001b[0m \u001b[1;33m=\u001b[0m \u001b[1;33m(\u001b[0m\u001b[1;33m[\u001b[0m\u001b[0mmsg\u001b[0m\u001b[1;33m[\u001b[0m\u001b[1;34m'created_at'\u001b[0m\u001b[1;33m]\u001b[0m\u001b[1;33m,\u001b[0m \u001b[0mmsg\u001b[0m\u001b[1;33m[\u001b[0m\u001b[1;34m'txt'\u001b[0m\u001b[1;33m]\u001b[0m\u001b[1;33m,\u001b[0m \u001b[0mmsg\u001b[0m\u001b[1;33m[\u001b[0m\u001b[1;34m'user'\u001b[0m\u001b[1;33m]\u001b[0m\u001b[1;33m[\u001b[0m\u001b[1;34m'id'\u001b[0m\u001b[1;33m]\u001b[0m\u001b[1;33m]\u001b[0m \u001b[1;32mfor\u001b[0m \u001b[0mmsg\u001b[0m \u001b[1;32min\u001b[0m \u001b[0mjs\u001b[0m\u001b[1;33m.\u001b[0m\u001b[0mget\u001b[0m\u001b[1;33m(\u001b[0m\u001b[1;34m'statuses'\u001b[0m\u001b[1;33m,\u001b[0m \u001b[1;33m[\u001b[0m\u001b[1;33m]\u001b[0m\u001b[1;33m)\u001b[0m\u001b[1;33m)\u001b[0m\u001b[1;33m\u001b[0m\u001b[0m\n\u001b[0m\u001b[0;32m     51\u001b[0m     \u001b[1;31m#\u001b[0m\u001b[1;33m\u001b[0m\u001b[1;33m\u001b[0m\u001b[0m\n\u001b[0;32m     52\u001b[0m \u001b[1;33m\u001b[0m\u001b[0m\n",
      "\u001b[1;31mKeyError\u001b[0m: 'txt'"
     ]
    }
   ],
   "source": [
    "import csv\n",
    "import json\n",
    "import oauth2 as oauth\n",
    "import urllib\n",
    "import sys\n",
    "import requests\n",
    "import time\n",
    "\n",
    "CONSUMER_KEY = \"mC0J8qgXqGorieyi7hAAOw\"\n",
    "CONSUMER_SECRET = \"D1oAuS4ebk1lPXvIiy5uyCGRcZ69BKNZaD1X2HrMwns\"\n",
    "ACCESS_KEY = \"1452137586-wkMLaUepcZwQssjhjcR2siXZm1EkJfG65oy2rXJ\"\n",
    "ACCESS_SECRET = \"oPVSXiEzxgUromhNBgIvTc1lKj5IgkGOXjne9yI8CO913\"\n",
    "\n",
    "class TwitterSearch:\n",
    "    def __init__(self,\n",
    "        ckey    = CONSUMER_KEY,\n",
    "        csecret = CONSUMER_SECRET,\n",
    "        akey    = ACCESS_KEY,\n",
    "        asecret = ACCESS_SECRET,\n",
    "        query   = 'https://api.twitter.com/1.1/search/tweets.{mode}?{query}'\n",
    "    ):\n",
    "        consumer     = oauth.Consumer(key=ckey, secret=csecret)\n",
    "        access_token = oauth.Token(key=akey, secret=asecret)\n",
    "        self.client  = oauth.Client(consumer, access_token)\n",
    "        self.query   = query\n",
    "\n",
    "    def search(self, q, mode='json', **queryargs):\n",
    "        queryargs['q'] = q\n",
    "        query = urllib.urlencode(queryargs)\n",
    "        return self.client.request(self.query.format(query=query, mode=mode))\n",
    "\n",
    "def write_csv(fname, rows, header=None, append=False, **kwargs):\n",
    "    filemode = 'ab' if append else 'wb'\n",
    "    with open(fname, filemode) as outf:\n",
    "        out_csv = csv.writer(outf, **kwargs)\n",
    "        if header:\n",
    "            out_csv.writerow(header)\n",
    "        out_csv.writerows(rows)\n",
    "\n",
    "def main():\n",
    "    ts = TwitterSearch()\n",
    "    response, data = ts.search('@gmail.com', result_type='recent')\n",
    "    js = json.loads(data)\n",
    "\n",
    "#error : name 'messages' is not defined\n",
    "#Because the line write_csv('twitter_gmail.csv', messages, append=True) is not part of the main() function. \n",
    "# The line has not been indented at all, so Python sees it as a separate line of code following the main() function, \n",
    "# and executes it immediately when you run this script.\n",
    "    # I need to parse the content in js and turn it into a generator expression\n",
    "    messages = ([msg['created_at'], msg['txt'], msg['user']['id']] for msg in js.get('statuses', []))\n",
    "    #\n",
    "\n",
    "#write_csv('twitter_gmail.csv', messages, append=True)\n",
    "    write_csv('twitter_gmail.csv', messages, append=True)\n",
    "    \n",
    "if __name__ == '__main__':\n",
    "    main()"
   ]
  },
  {
   "cell_type": "code",
   "execution_count": 2,
   "metadata": {
    "collapsed": false
   },
   "outputs": [
    {
     "name": "stdout",
     "output_type": "stream",
     "text": [
      "Collecting oauth2\n",
      "  Downloading oauth2-1.9.0.post1-py2.py3-none-any.whl\n",
      "Collecting httplib2 (from oauth2)\n",
      "  Downloading httplib2-0.9.2.zip (210kB)\n",
      "Building wheels for collected packages: httplib2\n",
      "  Running setup.py bdist_wheel for httplib2: started\n",
      "  Running setup.py bdist_wheel for httplib2: finished with status 'done'\n",
      "  Stored in directory: C:\\Users\\Gloria\\AppData\\Local\\pip\\Cache\\wheels\\c7\\67\\60\\e0be8ccfc1e08f8ff1f50d99ea5378e204580ea77b0169fb55\n",
      "Successfully built httplib2\n",
      "Installing collected packages: httplib2, oauth2\n",
      "Successfully installed httplib2-0.9.2 oauth2-1.9.0.post1\n"
     ]
    },
    {
     "name": "stderr",
     "output_type": "stream",
     "text": [
      "You are using pip version 8.0.3, however version 8.1.2 is available.\n",
      "You should consider upgrading via the 'python -m pip install --upgrade pip' command.\n"
     ]
    }
   ],
   "source": [
    "#!python -m pip install oauth2"
   ]
  },
  {
   "cell_type": "code",
   "execution_count": null,
   "metadata": {
    "collapsed": true
   },
   "outputs": [],
   "source": []
  }
 ],
 "metadata": {
  "kernelspec": {
   "display_name": "Python 2",
   "language": "python",
   "name": "python2"
  },
  "language_info": {
   "codemirror_mode": {
    "name": "ipython",
    "version": 2
   },
   "file_extension": ".py",
   "mimetype": "text/x-python",
   "name": "python",
   "nbconvert_exporter": "python",
   "pygments_lexer": "ipython2",
   "version": "2.7.10"
  }
 },
 "nbformat": 4,
 "nbformat_minor": 0
}
